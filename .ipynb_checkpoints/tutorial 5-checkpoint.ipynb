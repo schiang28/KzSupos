{
 "cells": [
  {
   "cell_type": "code",
   "execution_count": 1,
   "id": "2a3b4550",
   "metadata": {},
   "outputs": [],
   "source": [
    "import pandas as pd\n",
    "import numpy as np\n",
    "import matplotlib.pyplot as plt\n",
    "import sklearn.linear_model\n",
    "import scipy.optimize\n",
    "import sklearn"
   ]
  },
  {
   "cell_type": "code",
   "execution_count": 2,
   "id": "baeb009f",
   "metadata": {},
   "outputs": [],
   "source": [
    "def weather_generation(P, x0):\n",
    "    x = x0\n",
    "    while True:\n",
    "        yield x\n",
    "        x = np.random.choice([0,1,2],p=P[x])\n",
    "P = np.array([[0.2,0.6,0.2],[0.3,0.2,0.5],[0.1,0.4,0.5]])\n",
    "\n",
    "generator = weather_generation(P, 0)\n",
    "events = [next(generator) for _ in range(10)]"
   ]
  },
  {
   "cell_type": "code",
   "execution_count": 3,
   "id": "477e02ca",
   "metadata": {},
   "outputs": [
    {
     "data": {
      "text/plain": [
       "[0, 1, 2, 1, 2, 1, 1, 2, 1, 2]"
      ]
     },
     "execution_count": 3,
     "metadata": {},
     "output_type": "execute_result"
    }
   ],
   "source": [
    "events"
   ]
  },
  {
   "cell_type": "code",
   "execution_count": 4,
   "id": "c7721bac",
   "metadata": {},
   "outputs": [
    {
     "data": {
      "image/png": "[encoded data removed]",
      "text/plain": [
       "<Figure size 432x288 with 4 Axes>"
      ]
     },
     "metadata": {
      "needs_background": "light"
     },
     "output_type": "display_data"
    }
   ],
   "source": [
    "def repidemic(x0, r, d, n, ω):\n",
    "  # Simulate n timesteps\n",
    "    x = x0\n",
    "    res = [x]\n",
    "    for _ in range(n-1):\n",
    "        x = x + ω.poisson(x*r/d) - ω.binomial(x, 1/d)\n",
    "        res.append(x)\n",
    "    return np.array(res)\n",
    "\n",
    "# Simulate 5 epidemics each, at two different parameter values\n",
    "θ = [(0.8,5),(1.2,5)]\n",
    "M = 5\n",
    "rng = np.random.default_rng(1642)\n",
    "xss = [[repidemic(5,r=r,d=d,n=1000,ω=np.random.default_rng(rng.integers(2000))) for _ in range(M)] for (r,d) in θ]\n",
    "# Plot them\n",
    "cmap = plt.get_cmap('cividis')\n",
    "cols = [cmap(c) for c in np.linspace(.2,.8,M)]\n",
    "\n",
    "fig,axes = plt.subplots(2,2, figsize=(6,4))\n",
    "for xs,(r,d,),(ax1,ax2) in zip(xss,θ,axes.T):\n",
    "    for x,c in zip(xs, cols):\n",
    "        T = 15\n",
    "        ax1.plot(np.arange(15), x[:15], color=c)\n",
    "        ax2.plot(np.arange(100), x[:100], color=c)\n",
    "        ax1.set_title(f'$p={1/d},\\;\\;λ={r/d}$', fontsize=10)\n",
    "\n",
    "axes[0,0].set_ylim([0,14])  \n",
    "axes[1,0].set_ylim([0,300])\n",
    "        \n",
    "plt.show()"
   ]
  },
  {
   "cell_type": "code",
   "execution_count": 5,
   "id": "9f46aa5b",
   "metadata": {},
   "outputs": [],
   "source": [
    "P = np.array([[0.2,0.6,0.2],[0.3,0.2,0.5],[0.1,0.4,0.5]])"
   ]
  },
  {
   "cell_type": "code",
   "execution_count": 6,
   "id": "3070055c",
   "metadata": {},
   "outputs": [
    {
     "data": {
      "text/plain": [
       "array([[0.24, 0.32, 0.44],\n",
       "       [0.17, 0.42, 0.41],\n",
       "       [0.19, 0.34, 0.47]])"
      ]
     },
     "execution_count": 6,
     "metadata": {},
     "output_type": "execute_result"
    }
   ],
   "source": [
    "P @P"
   ]
  },
  {
   "cell_type": "code",
   "execution_count": 7,
   "id": "ec9c187c",
   "metadata": {},
   "outputs": [
    {
     "data": {
      "text/plain": [
       "array([[0.19230769, 0.36538462, 0.44230769],\n",
       "       [0.19230769, 0.36538462, 0.44230769],\n",
       "       [0.19230769, 0.36538462, 0.44230769]])"
      ]
     },
     "execution_count": 7,
     "metadata": {},
     "output_type": "execute_result"
    }
   ],
   "source": [
    "np.linalg.matrix_power(P,100)"
   ]
  },
  {
   "cell_type": "code",
   "execution_count": 9,
   "id": "17759de9",
   "metadata": {},
   "outputs": [
    {
     "name": "stderr",
     "output_type": "stream",
     "text": [
      "<ipython-input-9-3b838376fe0b>:5: FutureWarning: `rcond` parameter will change to the default of machine precision times ``max(M, N)`` where M and N are the input matrix dimensions.\n",
      "To use the future default and silence this warning we advise to pass `rcond=None`, to keep using the old, explicitly pass `rcond=-1`.\n",
      "  pi = np.linalg.lstsq(Q, b)[0]\n"
     ]
    },
    {
     "data": {
      "text/plain": [
       "array([0.19230769, 0.36538462, 0.44230769])"
      ]
     },
     "execution_count": 9,
     "metadata": {},
     "output_type": "execute_result"
    }
   ],
   "source": [
    "n = 3\n",
    "Q = np.concatenate([(P-np.eye(n)).transpose(), [np.ones(n)]])\n",
    "b = np.zeros(n+1)\n",
    "b[-1] = 1\n",
    "pi = np.linalg.lstsq(Q, b)[0]\n",
    "pi"
   ]
  },
  {
   "cell_type": "code",
   "execution_count": 10,
   "id": "f8988c0e",
   "metadata": {},
   "outputs": [
    {
     "data": {
      "text/plain": [
       "array([[0.        , 0.5       , 0.        , 0.        , 0.5       ,\n",
       "        0.        ],\n",
       "       [0.33333333, 0.        , 0.        , 0.        , 0.33333333,\n",
       "        0.33333333],\n",
       "       [0.        , 0.5       , 0.        , 0.5       , 0.        ,\n",
       "        0.        ],\n",
       "       [0.        , 0.        , 0.33333333, 0.        , 0.33333333,\n",
       "        0.33333333],\n",
       "       [0.        , 0.        , 0.        , 1.        , 0.        ,\n",
       "        0.        ],\n",
       "       [0.        , 0.        , 0.        , 0.        , 0.        ,\n",
       "        1.        ]])"
      ]
     },
     "execution_count": 10,
     "metadata": {},
     "output_type": "execute_result"
    }
   ],
   "source": [
    "# Adjacency matrix (including a link from state 5 back to itself)\n",
    "E = np.array([[0,1,0,0,1,0],\n",
    "              [1,0,0,0,1,1],\n",
    "              [0,1,0,1,0,0],\n",
    "              [0,0,1,0,1,1],\n",
    "              [0,0,0,1,0,0],\n",
    "              [0,0,0,0,0,1]])\n",
    "# Transition matrix\n",
    "P = E / E.sum(axis=1)[:,np.newaxis]\n",
    "P"
   ]
  },
  {
   "cell_type": "code",
   "execution_count": 11,
   "id": "ab702029",
   "metadata": {},
   "outputs": [],
   "source": [
    "Q = P.copy()"
   ]
  },
  {
   "cell_type": "code",
   "execution_count": 12,
   "id": "e1f8b5f2",
   "metadata": {},
   "outputs": [
    {
     "data": {
      "text/plain": [
       "array([[0.        , 0.        , 0.        , 0.        , 0.        ,\n",
       "        0.        ],\n",
       "       [0.33333333, 0.        , 0.        , 0.        , 0.33333333,\n",
       "        0.33333333],\n",
       "       [0.        , 0.5       , 0.        , 0.5       , 0.        ,\n",
       "        0.        ],\n",
       "       [0.        , 0.        , 0.33333333, 0.        , 0.33333333,\n",
       "        0.33333333],\n",
       "       [0.        , 0.        , 0.        , 1.        , 0.        ,\n",
       "        0.        ],\n",
       "       [0.        , 0.        , 0.        , 0.        , 0.        ,\n",
       "        1.        ]])"
      ]
     },
     "execution_count": 12,
     "metadata": {},
     "output_type": "execute_result"
    }
   ],
   "source": [
    "Q[0] = np.zeros(len(P))\n",
    "Q"
   ]
  },
  {
   "cell_type": "code",
   "execution_count": 13,
   "id": "0b92eaac",
   "metadata": {},
   "outputs": [
    {
     "data": {
      "text/plain": [
       "array([[0.        , 0.        , 0.        , 0.        , 0.        ,\n",
       "        0.        ],\n",
       "       [0.33333333, 0.        , 0.        , 0.        , 0.33333333,\n",
       "        0.33333333],\n",
       "       [0.        , 0.5       , 0.        , 0.5       , 0.        ,\n",
       "        0.        ],\n",
       "       [0.        , 0.        , 0.33333333, 0.        , 0.33333333,\n",
       "        0.33333333],\n",
       "       [0.        , 0.        , 0.        , 1.        , 0.        ,\n",
       "        0.        ],\n",
       "       [0.        , 0.        , 0.        , 0.        , 0.        ,\n",
       "        0.        ]])"
      ]
     },
     "execution_count": 13,
     "metadata": {},
     "output_type": "execute_result"
    }
   ],
   "source": [
    "Q[-1] = np.zeros(len(P))\n",
    "Q"
   ]
  },
  {
   "cell_type": "code",
   "execution_count": 14,
   "id": "9a06f828",
   "metadata": {},
   "outputs": [],
   "source": [
    "b = np.zeros(len(P))\n",
    "b[0] = 1"
   ]
  },
  {
   "cell_type": "code",
   "execution_count": 15,
   "id": "d014a253",
   "metadata": {},
   "outputs": [],
   "source": [
    "pi = np.linalg.solve(np.eye(6)-Q,b)"
   ]
  },
  {
   "cell_type": "code",
   "execution_count": 16,
   "id": "b19c93ea",
   "metadata": {},
   "outputs": [
    {
     "data": {
      "text/plain": [
       "array([1.   , 0.375, 0.25 , 0.125, 0.125, 0.   ])"
      ]
     },
     "execution_count": 16,
     "metadata": {},
     "output_type": "execute_result"
    }
   ],
   "source": [
    "pi"
   ]
  },
  {
   "cell_type": "code",
   "execution_count": null,
   "id": "e02af360",
   "metadata": {},
   "outputs": [],
   "source": []
  }
 ],
 "metadata": {
  "kernelspec": {
   "display_name": "Python 3",
   "language": "python",
   "name": "python3"
  },
  "language_info": {
   "codemirror_mode": {
    "name": "ipython",
    "version": 3
   },
   "file_extension": ".py",
   "mimetype": "text/x-python",
   "name": "python",
   "nbconvert_exporter": "python",
   "pygments_lexer": "ipython3",
   "version": "3.8.8"
  }
 },
 "nbformat": 4,
 "nbformat_minor": 5
}
