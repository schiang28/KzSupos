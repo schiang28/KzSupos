{
 "cells": [
  {
   "cell_type": "code",
   "execution_count": 2,
   "id": "355cc3da",
   "metadata": {},
   "outputs": [],
   "source": [
    "import pandas as pd"
   ]
  },
  {
   "cell_type": "code",
   "execution_count": 7,
   "id": "117837bd",
   "metadata": {},
   "outputs": [],
   "source": [
    "import pandas as pd\n",
    "import numpy as np\n",
    "import matplotlib.pyplot as plt\n",
    "import sklearn.linear_model\n",
    "import scipy.optimize"
   ]
  },
  {
   "cell_type": "code",
   "execution_count": 4,
   "id": "bc29177d",
   "metadata": {},
   "outputs": [],
   "source": [
    "url = 'https://www.cl.cam.ac.uk/teaching/2122/DataSci/data/iris.csv'\n",
    "iris = pd.read_csv(url)"
   ]
  },
  {
   "cell_type": "code",
   "execution_count": 5,
   "id": "7d94f501",
   "metadata": {},
   "outputs": [
    {
     "data": {
      "text/html": [
       "<div>\n",
       "<style scoped>\n",
       "    .dataframe tbody tr th:only-of-type {\n",
       "        vertical-align: middle;\n",
       "    }\n",
       "\n",
       "    .dataframe tbody tr th {\n",
       "        vertical-align: top;\n",
       "    }\n",
       "\n",
       "    .dataframe thead th {\n",
       "        text-align: right;\n",
       "    }\n",
       "</style>\n",
       "<table border=\"1\" class=\"dataframe\">\n",
       "  <thead>\n",
       "    <tr style=\"text-align: right;\">\n",
       "      <th></th>\n",
       "      <th>Sepal.Length</th>\n",
       "      <th>Sepal.Width</th>\n",
       "      <th>Petal.Length</th>\n",
       "      <th>Petal.Width</th>\n",
       "      <th>Species</th>\n",
       "    </tr>\n",
       "  </thead>\n",
       "  <tbody>\n",
       "    <tr>\n",
       "      <th>0</th>\n",
       "      <td>5.1</td>\n",
       "      <td>3.5</td>\n",
       "      <td>1.4</td>\n",
       "      <td>0.2</td>\n",
       "      <td>setosa</td>\n",
       "    </tr>\n",
       "    <tr>\n",
       "      <th>1</th>\n",
       "      <td>4.9</td>\n",
       "      <td>3.0</td>\n",
       "      <td>1.4</td>\n",
       "      <td>0.2</td>\n",
       "      <td>setosa</td>\n",
       "    </tr>\n",
       "    <tr>\n",
       "      <th>2</th>\n",
       "      <td>4.7</td>\n",
       "      <td>3.2</td>\n",
       "      <td>1.3</td>\n",
       "      <td>0.2</td>\n",
       "      <td>setosa</td>\n",
       "    </tr>\n",
       "    <tr>\n",
       "      <th>3</th>\n",
       "      <td>4.6</td>\n",
       "      <td>3.1</td>\n",
       "      <td>1.5</td>\n",
       "      <td>0.2</td>\n",
       "      <td>setosa</td>\n",
       "    </tr>\n",
       "    <tr>\n",
       "      <th>4</th>\n",
       "      <td>5.0</td>\n",
       "      <td>3.6</td>\n",
       "      <td>1.4</td>\n",
       "      <td>0.2</td>\n",
       "      <td>setosa</td>\n",
       "    </tr>\n",
       "  </tbody>\n",
       "</table>\n",
       "</div>"
      ],
      "text/plain": [
       "   Sepal.Length  Sepal.Width  Petal.Length  Petal.Width Species\n",
       "0           5.1          3.5           1.4          0.2  setosa\n",
       "1           4.9          3.0           1.4          0.2  setosa\n",
       "2           4.7          3.2           1.3          0.2  setosa\n",
       "3           4.6          3.1           1.5          0.2  setosa\n",
       "4           5.0          3.6           1.4          0.2  setosa"
      ]
     },
     "execution_count": 5,
     "metadata": {},
     "output_type": "execute_result"
    }
   ],
   "source": [
    "iris.head()"
   ]
  },
  {
   "cell_type": "code",
   "execution_count": 11,
   "id": "87ebbdb7",
   "metadata": {},
   "outputs": [
    {
     "data": {
      "image/png": "[encoded data removed]",
      "text/plain": [
       "<Figure size 432x288 with 1 Axes>"
      ]
     },
     "metadata": {
      "needs_background": "light"
     },
     "output_type": "display_data"
    }
   ],
   "source": [
    "SL, PL = iris['Sepal.Length'], iris['Petal.Length']\n",
    "fig, ax = plt.subplots()\n",
    "ax.scatter(SL, PL, alpha =.3)\n",
    "plt.show()"
   ]
  },
  {
   "cell_type": "code",
   "execution_count": 12,
   "id": "58050a8a",
   "metadata": {},
   "outputs": [
    {
     "data": {
      "text/plain": [
       "array(['setosa', 'versicolor', 'virginica'], dtype=object)"
      ]
     },
     "execution_count": 12,
     "metadata": {},
     "output_type": "execute_result"
    }
   ],
   "source": [
    "np.unique(iris['Species'])"
   ]
  },
  {
   "cell_type": "code",
   "execution_count": 13,
   "id": "350b1e2f",
   "metadata": {},
   "outputs": [],
   "source": [
    "species = iris['Species']\n",
    "species_groups = np.unique(species)\n",
    "species_onehot = [np.where(species==k,1,0) for k in species_groups]"
   ]
  },
  {
   "cell_type": "code",
   "execution_count": 15,
   "id": "3dbdd041",
   "metadata": {},
   "outputs": [
    {
     "data": {
      "text/plain": [
       "array([[1. , 0. , 0. , 5.1, 0. , 0. ],\n",
       "       [1. , 0. , 0. , 4.9, 0. , 0. ],\n",
       "       [1. , 0. , 0. , 4.7, 0. , 0. ],\n",
       "       [1. , 0. , 0. , 4.6, 0. , 0. ],\n",
       "       [1. , 0. , 0. , 5. , 0. , 0. ],\n",
       "       [1. , 0. , 0. , 5.4, 0. , 0. ],\n",
       "       [1. , 0. , 0. , 4.6, 0. , 0. ],\n",
       "       [1. , 0. , 0. , 5. , 0. , 0. ],\n",
       "       [1. , 0. , 0. , 4.4, 0. , 0. ],\n",
       "       [1. , 0. , 0. , 4.9, 0. , 0. ],\n",
       "       [1. , 0. , 0. , 5.4, 0. , 0. ],\n",
       "       [1. , 0. , 0. , 4.8, 0. , 0. ],\n",
       "       [1. , 0. , 0. , 4.8, 0. , 0. ],\n",
       "       [1. , 0. , 0. , 4.3, 0. , 0. ],\n",
       "       [1. , 0. , 0. , 5.8, 0. , 0. ],\n",
       "       [1. , 0. , 0. , 5.7, 0. , 0. ],\n",
       "       [1. , 0. , 0. , 5.4, 0. , 0. ],\n",
       "       [1. , 0. , 0. , 5.1, 0. , 0. ],\n",
       "       [1. , 0. , 0. , 5.7, 0. , 0. ],\n",
       "       [1. , 0. , 0. , 5.1, 0. , 0. ],\n",
       "       [1. , 0. , 0. , 5.4, 0. , 0. ],\n",
       "       [1. , 0. , 0. , 5.1, 0. , 0. ],\n",
       "       [1. , 0. , 0. , 4.6, 0. , 0. ],\n",
       "       [1. , 0. , 0. , 5.1, 0. , 0. ],\n",
       "       [1. , 0. , 0. , 4.8, 0. , 0. ],\n",
       "       [1. , 0. , 0. , 5. , 0. , 0. ],\n",
       "       [1. , 0. , 0. , 5. , 0. , 0. ],\n",
       "       [1. , 0. , 0. , 5.2, 0. , 0. ],\n",
       "       [1. , 0. , 0. , 5.2, 0. , 0. ],\n",
       "       [1. , 0. , 0. , 4.7, 0. , 0. ],\n",
       "       [1. , 0. , 0. , 4.8, 0. , 0. ],\n",
       "       [1. , 0. , 0. , 5.4, 0. , 0. ],\n",
       "       [1. , 0. , 0. , 5.2, 0. , 0. ],\n",
       "       [1. , 0. , 0. , 5.5, 0. , 0. ],\n",
       "       [1. , 0. , 0. , 4.9, 0. , 0. ],\n",
       "       [1. , 0. , 0. , 5. , 0. , 0. ],\n",
       "       [1. , 0. , 0. , 5.5, 0. , 0. ],\n",
       "       [1. , 0. , 0. , 4.9, 0. , 0. ],\n",
       "       [1. , 0. , 0. , 4.4, 0. , 0. ],\n",
       "       [1. , 0. , 0. , 5.1, 0. , 0. ],\n",
       "       [1. , 0. , 0. , 5. , 0. , 0. ],\n",
       "       [1. , 0. , 0. , 4.5, 0. , 0. ],\n",
       "       [1. , 0. , 0. , 4.4, 0. , 0. ],\n",
       "       [1. , 0. , 0. , 5. , 0. , 0. ],\n",
       "       [1. , 0. , 0. , 5.1, 0. , 0. ],\n",
       "       [1. , 0. , 0. , 4.8, 0. , 0. ],\n",
       "       [1. , 0. , 0. , 5.1, 0. , 0. ],\n",
       "       [1. , 0. , 0. , 4.6, 0. , 0. ],\n",
       "       [1. , 0. , 0. , 5.3, 0. , 0. ],\n",
       "       [1. , 0. , 0. , 5. , 0. , 0. ],\n",
       "       [0. , 1. , 0. , 0. , 7. , 0. ],\n",
       "       [0. , 1. , 0. , 0. , 6.4, 0. ],\n",
       "       [0. , 1. , 0. , 0. , 6.9, 0. ],\n",
       "       [0. , 1. , 0. , 0. , 5.5, 0. ],\n",
       "       [0. , 1. , 0. , 0. , 6.5, 0. ],\n",
       "       [0. , 1. , 0. , 0. , 5.7, 0. ],\n",
       "       [0. , 1. , 0. , 0. , 6.3, 0. ],\n",
       "       [0. , 1. , 0. , 0. , 4.9, 0. ],\n",
       "       [0. , 1. , 0. , 0. , 6.6, 0. ],\n",
       "       [0. , 1. , 0. , 0. , 5.2, 0. ],\n",
       "       [0. , 1. , 0. , 0. , 5. , 0. ],\n",
       "       [0. , 1. , 0. , 0. , 5.9, 0. ],\n",
       "       [0. , 1. , 0. , 0. , 6. , 0. ],\n",
       "       [0. , 1. , 0. , 0. , 6.1, 0. ],\n",
       "       [0. , 1. , 0. , 0. , 5.6, 0. ],\n",
       "       [0. , 1. , 0. , 0. , 6.7, 0. ],\n",
       "       [0. , 1. , 0. , 0. , 5.6, 0. ],\n",
       "       [0. , 1. , 0. , 0. , 5.8, 0. ],\n",
       "       [0. , 1. , 0. , 0. , 6.2, 0. ],\n",
       "       [0. , 1. , 0. , 0. , 5.6, 0. ],\n",
       "       [0. , 1. , 0. , 0. , 5.9, 0. ],\n",
       "       [0. , 1. , 0. , 0. , 6.1, 0. ],\n",
       "       [0. , 1. , 0. , 0. , 6.3, 0. ],\n",
       "       [0. , 1. , 0. , 0. , 6.1, 0. ],\n",
       "       [0. , 1. , 0. , 0. , 6.4, 0. ],\n",
       "       [0. , 1. , 0. , 0. , 6.6, 0. ],\n",
       "       [0. , 1. , 0. , 0. , 6.8, 0. ],\n",
       "       [0. , 1. , 0. , 0. , 6.7, 0. ],\n",
       "       [0. , 1. , 0. , 0. , 6. , 0. ],\n",
       "       [0. , 1. , 0. , 0. , 5.7, 0. ],\n",
       "       [0. , 1. , 0. , 0. , 5.5, 0. ],\n",
       "       [0. , 1. , 0. , 0. , 5.5, 0. ],\n",
       "       [0. , 1. , 0. , 0. , 5.8, 0. ],\n",
       "       [0. , 1. , 0. , 0. , 6. , 0. ],\n",
       "       [0. , 1. , 0. , 0. , 5.4, 0. ],\n",
       "       [0. , 1. , 0. , 0. , 6. , 0. ],\n",
       "       [0. , 1. , 0. , 0. , 6.7, 0. ],\n",
       "       [0. , 1. , 0. , 0. , 6.3, 0. ],\n",
       "       [0. , 1. , 0. , 0. , 5.6, 0. ],\n",
       "       [0. , 1. , 0. , 0. , 5.5, 0. ],\n",
       "       [0. , 1. , 0. , 0. , 5.5, 0. ],\n",
       "       [0. , 1. , 0. , 0. , 6.1, 0. ],\n",
       "       [0. , 1. , 0. , 0. , 5.8, 0. ],\n",
       "       [0. , 1. , 0. , 0. , 5. , 0. ],\n",
       "       [0. , 1. , 0. , 0. , 5.6, 0. ],\n",
       "       [0. , 1. , 0. , 0. , 5.7, 0. ],\n",
       "       [0. , 1. , 0. , 0. , 5.7, 0. ],\n",
       "       [0. , 1. , 0. , 0. , 6.2, 0. ],\n",
       "       [0. , 1. , 0. , 0. , 5.1, 0. ],\n",
       "       [0. , 1. , 0. , 0. , 5.7, 0. ],\n",
       "       [0. , 0. , 1. , 0. , 0. , 6.3],\n",
       "       [0. , 0. , 1. , 0. , 0. , 5.8],\n",
       "       [0. , 0. , 1. , 0. , 0. , 7.1],\n",
       "       [0. , 0. , 1. , 0. , 0. , 6.3],\n",
       "       [0. , 0. , 1. , 0. , 0. , 6.5],\n",
       "       [0. , 0. , 1. , 0. , 0. , 7.6],\n",
       "       [0. , 0. , 1. , 0. , 0. , 4.9],\n",
       "       [0. , 0. , 1. , 0. , 0. , 7.3],\n",
       "       [0. , 0. , 1. , 0. , 0. , 6.7],\n",
       "       [0. , 0. , 1. , 0. , 0. , 7.2],\n",
       "       [0. , 0. , 1. , 0. , 0. , 6.5],\n",
       "       [0. , 0. , 1. , 0. , 0. , 6.4],\n",
       "       [0. , 0. , 1. , 0. , 0. , 6.8],\n",
       "       [0. , 0. , 1. , 0. , 0. , 5.7],\n",
       "       [0. , 0. , 1. , 0. , 0. , 5.8],\n",
       "       [0. , 0. , 1. , 0. , 0. , 6.4],\n",
       "       [0. , 0. , 1. , 0. , 0. , 6.5],\n",
       "       [0. , 0. , 1. , 0. , 0. , 7.7],\n",
       "       [0. , 0. , 1. , 0. , 0. , 7.7],\n",
       "       [0. , 0. , 1. , 0. , 0. , 6. ],\n",
       "       [0. , 0. , 1. , 0. , 0. , 6.9],\n",
       "       [0. , 0. , 1. , 0. , 0. , 5.6],\n",
       "       [0. , 0. , 1. , 0. , 0. , 7.7],\n",
       "       [0. , 0. , 1. , 0. , 0. , 6.3],\n",
       "       [0. , 0. , 1. , 0. , 0. , 6.7],\n",
       "       [0. , 0. , 1. , 0. , 0. , 7.2],\n",
       "       [0. , 0. , 1. , 0. , 0. , 6.2],\n",
       "       [0. , 0. , 1. , 0. , 0. , 6.1],\n",
       "       [0. , 0. , 1. , 0. , 0. , 6.4],\n",
       "       [0. , 0. , 1. , 0. , 0. , 7.2],\n",
       "       [0. , 0. , 1. , 0. , 0. , 7.4],\n",
       "       [0. , 0. , 1. , 0. , 0. , 7.9],\n",
       "       [0. , 0. , 1. , 0. , 0. , 6.4],\n",
       "       [0. , 0. , 1. , 0. , 0. , 6.3],\n",
       "       [0. , 0. , 1. , 0. , 0. , 6.1],\n",
       "       [0. , 0. , 1. , 0. , 0. , 7.7],\n",
       "       [0. , 0. , 1. , 0. , 0. , 6.3],\n",
       "       [0. , 0. , 1. , 0. , 0. , 6.4],\n",
       "       [0. , 0. , 1. , 0. , 0. , 6. ],\n",
       "       [0. , 0. , 1. , 0. , 0. , 6.9],\n",
       "       [0. , 0. , 1. , 0. , 0. , 6.7],\n",
       "       [0. , 0. , 1. , 0. , 0. , 6.9],\n",
       "       [0. , 0. , 1. , 0. , 0. , 5.8],\n",
       "       [0. , 0. , 1. , 0. , 0. , 6.8],\n",
       "       [0. , 0. , 1. , 0. , 0. , 6.7],\n",
       "       [0. , 0. , 1. , 0. , 0. , 6.7],\n",
       "       [0. , 0. , 1. , 0. , 0. , 6.3],\n",
       "       [0. , 0. , 1. , 0. , 0. , 6.5],\n",
       "       [0. , 0. , 1. , 0. , 0. , 6.2],\n",
       "       [0. , 0. , 1. , 0. , 0. , 5.9]])"
      ]
     },
     "execution_count": 15,
     "metadata": {},
     "output_type": "execute_result"
    }
   ],
   "source": [
    "features_vectors = np.column_stack((species_onehot+[SL * i for i in species_onehot]))\n",
    "features_vectors"
   ]
  },
  {
   "cell_type": "code",
   "execution_count": 16,
   "id": "21e91e27",
   "metadata": {},
   "outputs": [],
   "source": [
    "import sklearn"
   ]
  },
  {
   "cell_type": "code",
   "execution_count": 17,
   "id": "fe20b6fa",
   "metadata": {},
   "outputs": [
    {
     "data": {
      "text/plain": [
       "LinearRegression(fit_intercept=False)"
      ]
     },
     "execution_count": 17,
     "metadata": {},
     "output_type": "execute_result"
    }
   ],
   "source": [
    "model = sklearn.linear_model.LinearRegression(fit_intercept=False)\n",
    "model.fit(features_vectors, PL)"
   ]
  },
  {
   "cell_type": "code",
   "execution_count": 18,
   "id": "182bc965",
   "metadata": {},
   "outputs": [
    {
     "name": "stdout",
     "output_type": "stream",
     "text": [
      "0.8030518051312383 0.1851155095287561 0.6104679802955668 0.13163168095660435 0.6864697591764224 0.7500807558749899\n"
     ]
    }
   ],
   "source": [
    "alpha1, alpha2, alpha3, beta1, beta2, beta3 = model.coef_\n",
    "print(alpha1, alpha2, alpha3, beta1, beta2, beta3)"
   ]
  },
  {
   "cell_type": "code",
   "execution_count": 19,
   "id": "e448f74d",
   "metadata": {},
   "outputs": [
    {
     "data": {
      "image/png": "[encoded data removed]",
      "text/plain": [
       "<Figure size 324x216 with 1 Axes>"
      ]
     },
     "metadata": {
      "needs_background": "light"
     },
     "output_type": "display_data"
    }
   ],
   "source": [
    "pred = (iris.groupby('Species')['Sepal.Length']\n",
    "        .apply(lambda x: pandas.DataFrame({'Sepal.Length': np.linspace(min(x)-.5,max(x)+.5,20)}))\n",
    "        .reset_index())\n",
    "\n",
    "# Make predictions\n",
    "new_onehot = [np.where(pred['Species']==k,1,0) for k in species_groups]\n",
    "new_SL = pred['Sepal.Length']\n",
    "new_X = np.column_stack(new_onehot + [s*new_SL for s in new_onehot])\n",
    "pred['Petal.Length'] = model.predict(new_X)\n",
    "\n",
    "fig,ax = plt.subplots(figsize=(4.5,3))\n",
    "for k,m in zip(species_groups, ['o','x','d']):\n",
    "    df = iris.loc[iris['Species'] == k]\n",
    "    ax.scatter(df['Sepal.Length'], df['Petal.Length'], marker=m, label=k, alpha=0.4)\n",
    "    df = pred.loc[pred['Species'] == k]\n",
    "    ax.plot(df['Sepal.Length'], df['Petal.Length'], label=k, zorder=-1, linewidth=1, linestyle='dotted')\n",
    "\n",
    "ax.set_ylabel('Petal.Length')\n",
    "ax.set_xlabel('Sepal.Length')\n",
    "\n",
    "h,l = ax.get_legend_handles_labels()\n",
    "leg = plt.legend(h[3:], l[3:], loc=2, bbox_to_anchor=(1.1,1), frameon=False)\n",
    "for lh in leg.legendHandles: \n",
    "    lh.set_alpha(1)\n",
    "\n",
    "plt.show()"
   ]
  },
  {
   "cell_type": "code",
   "execution_count": 20,
   "id": "39e1c4d6",
   "metadata": {},
   "outputs": [
    {
     "data": {
      "text/plain": [
       "6"
      ]
     },
     "execution_count": 20,
     "metadata": {},
     "output_type": "execute_result"
    }
   ],
   "source": [
    "features = [[1,1,0,0,0,0,0,0],[0,0,1,1,0,0,0,0],[0,0,0,0,1,1,0,0],[0,0,0,0,0,0,1,1], # e1, e2, e3, e4\n",
    "            [1,0,1,0,1,0,0,0],[0,1,0,1,0,0,1,0],[0,0,0,0,0,1,0,1]] # e5, e6, e7\n",
    "y = [13,15,14,12,18,10,16,8]\n",
    "np.linalg.matrix_rank(features) # e1 + e2 + e3 + e4 = e5 + e6 + e7, hence linearly dependent"
   ]
  },
  {
   "cell_type": "code",
   "execution_count": 21,
   "id": "d902297c",
   "metadata": {},
   "outputs": [
    {
     "data": {
      "text/plain": [
       "array([4.14285714, 3.14285714, 8.14285714, 6.14285714, 9.85714286,\n",
       "       9.85714286, 1.85714286])"
      ]
     },
     "execution_count": 21,
     "metadata": {},
     "output_type": "execute_result"
    }
   ],
   "source": [
    "model.fit(np.column_stack(features), y)\n",
    "coefs = model.coef_\n",
    "coefs"
   ]
  },
  {
   "cell_type": "code",
   "execution_count": 22,
   "id": "57e07faf",
   "metadata": {},
   "outputs": [
    {
     "data": {
      "text/plain": [
       "array([ 6.,  5., 18., 16.])"
      ]
     },
     "execution_count": 22,
     "metadata": {},
     "output_type": "execute_result"
    }
   ],
   "source": [
    "\n",
    "test_data = [[1,0,0,0],[0,1,0,0],[0,0,1,0],[0,0,0,1],\n",
    "             [0,0,0,1],[0,0,1,0],[1,1,0,0]]\n",
    "model.predict(np.column_stack(test_data))"
   ]
  },
  {
   "cell_type": "code",
   "execution_count": 24,
   "id": "75fcec38",
   "metadata": {},
   "outputs": [
    {
     "ename": "NameError",
     "evalue": "name 'newfeatures' is not defined",
     "output_type": "error",
     "traceback": [
      "\u001b[0;31m---------------------------------------------------------------------------\u001b[0m",
      "\u001b[0;31mNameError\u001b[0m                                 Traceback (most recent call last)",
      "\u001b[0;32m<ipython-input-24-39a413ecaeb1>\u001b[0m in \u001b[0;36m<module>\u001b[0;34m\u001b[0m\n\u001b[1;32m     11\u001b[0m             [1,0,1,0,1,0,0,0],[0,1,0,1,0,0,1,0],[0,0,0,0,0,1,0,1]]\n\u001b[1;32m     12\u001b[0m \u001b[0mones\u001b[0m \u001b[0;34m=\u001b[0m \u001b[0mnp\u001b[0m\u001b[0;34m.\u001b[0m\u001b[0mones\u001b[0m\u001b[0;34m(\u001b[0m\u001b[0;36m8\u001b[0m\u001b[0;34m)\u001b[0m\u001b[0;34m\u001b[0m\u001b[0;34m\u001b[0m\u001b[0m\n\u001b[0;32m---> 13\u001b[0;31m \u001b[0mmodel\u001b[0m\u001b[0;34m.\u001b[0m\u001b[0mfit\u001b[0m\u001b[0;34m(\u001b[0m\u001b[0mnp\u001b[0m\u001b[0;34m.\u001b[0m\u001b[0mcolumn_stack\u001b[0m\u001b[0;34m(\u001b[0m\u001b[0mones\u001b[0m\u001b[0;34m+\u001b[0m\u001b[0mnewfeatures\u001b[0m\u001b[0;34m)\u001b[0m\u001b[0;34m,\u001b[0m\u001b[0my\u001b[0m\u001b[0;34m)\u001b[0m\u001b[0;34m\u001b[0m\u001b[0;34m\u001b[0m\u001b[0m\n\u001b[0m\u001b[1;32m     14\u001b[0m \u001b[0mcoefs\u001b[0m \u001b[0;34m=\u001b[0m \u001b[0mmodel\u001b[0m\u001b[0;34m.\u001b[0m\u001b[0mcoef\u001b[0m\u001b[0;34m\u001b[0m\u001b[0;34m\u001b[0m\u001b[0m\n\u001b[1;32m     15\u001b[0m \u001b[0mcoefs\u001b[0m\u001b[0;34m\u001b[0m\u001b[0;34m\u001b[0m\u001b[0m\n",
      "\u001b[0;31mNameError\u001b[0m: name 'newfeatures' is not defined"
     ]
    }
   ],
   "source": [
    "features = [[1,1,0,0,0,0,0,0],[0,0,1,1,0,0,0,0],[0,0,0,0,1,1,0,0],[0,0,0,0,0,0,1,1], # e1, e2, e3, e4\n",
    "            [1,0,1,0,1,0,0,0],[0,1,0,1,0,0,1,0],[0,0,0,0,0,1,0,1]] # e5, e6, e7\n",
    "y = [13,15,14,12,18,10,16,8]\n",
    "np.linalg.matrix_rank(features) # e1 + e2 + e3 + e4 = e5 + e6 + e7, hence linearly dependent\n",
    "test_data = [[1,0,0,0],[0,1,0,0],[0,0,1,0],[0,0,0,1],\n",
    "             [0,0,0,1],[0,0,1,0],[1,1,0,0]]\n",
    "model.predict(np.column_stack(test_data))\n",
    "\n",
    "# turn it into independent feature vectors by removing one feature vector and add a constant vector\n",
    "new_features = [[0,0,1,1,0,0,0,0],[0,0,0,0,1,1,0,0],[0,0,0,0,0,0,1,1], # e2, e3, e4\n",
    "            [1,0,1,0,1,0,0,0],[0,1,0,1,0,0,1,0],[0,0,0,0,0,1,0,1]]\n",
    "ones = np.ones(8)\n",
    "model.fit(np.column_stack(ones+newfeatures),y)\n",
    "coefs = model.coef\n",
    "coefs"
   ]
  },
  {
   "cell_type": "code",
   "execution_count": 25,
   "id": "8d1ef4f0",
   "metadata": {},
   "outputs": [
    {
     "data": {
      "text/plain": [
       "array([ 6.,  5., 18., 16.])"
      ]
     },
     "execution_count": 25,
     "metadata": {},
     "output_type": "execute_result"
    }
   ],
   "source": [
    "features = [[1,1,0,0,0,0,0,0],[0,0,1,1,0,0,0,0],[0,0,0,0,1,1,0,0],[0,0,0,0,0,0,1,1], # e1, e2, e3, e4\n",
    "            [1,0,1,0,1,0,0,0],[0,1,0,1,0,0,1,0],[0,0,0,0,0,1,0,1]] # e5, e6, e7\n",
    "y = [13,15,14,12,18,10,16,8]\n",
    "np.linalg.matrix_rank(features) # e1 + e2 + e3 + e4 = e5 + e6 + e7, hence linearly dependent\n",
    "test_data = [[1,0,0,0],[0,1,0,0],[0,0,1,0],[0,0,0,1],\n",
    "             [0,0,0,1],[0,0,1,0],[1,1,0,0]]\n",
    "model.predict(np.column_stack(test_data))"
   ]
  },
  {
   "cell_type": "code",
   "execution_count": null,
   "id": "e7f85479",
   "metadata": {},
   "outputs": [],
   "source": []
  }
 ],
 "metadata": {
  "kernelspec": {
   "display_name": "Python 3",
   "language": "python",
   "name": "python3"
  },
  "language_info": {
   "codemirror_mode": {
    "name": "ipython",
    "version": 3
   },
   "file_extension": ".py",
   "mimetype": "text/x-python",
   "name": "python",
   "nbconvert_exporter": "python",
   "pygments_lexer": "ipython3",
   "version": "3.8.8"
  }
 },
 "nbformat": 4,
 "nbformat_minor": 5
}
