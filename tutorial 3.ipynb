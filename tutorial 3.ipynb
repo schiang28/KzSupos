{
 "cells": [
  {
   "cell_type": "code",
   "execution_count": 1,
   "id": "4387a4ed",
   "metadata": {},
   "outputs": [],
   "source": [
    "import pandas as pd\n",
    "import numpy as np\n",
    "import matplotlib.pyplot as plt\n",
    "import sklearn.linear_model\n",
    "import scipy.optimize\n",
    "import sklearn"
   ]
  },
  {
   "cell_type": "code",
   "execution_count": 2,
   "id": "acfba4e7",
   "metadata": {},
   "outputs": [],
   "source": [
    "def ry():\n",
    "    t = np.random.uniform(0,1)\n",
    "    y= np.random.binomial(n=3,p=t)\n",
    "    return y"
   ]
  },
  {
   "cell_type": "code",
   "execution_count": 21,
   "id": "a5646a19",
   "metadata": {},
   "outputs": [
    {
     "data": {
      "image/png": "[encoded data removed]",
      "text/plain": [
       "<Figure size 432x288 with 1 Axes>"
      ]
     },
     "metadata": {
      "needs_background": "light"
     },
     "output_type": "display_data"
    }
   ],
   "source": [
    "y=5\n",
    "tsample =np.random.uniform(0,1,size=100000)\n",
    "w=scipy.stats.binom.pmf(y,n=7,p=tsample)\n",
    "w=w/np.sum(w)\n",
    "\n",
    "plt.hist(tsample, weights=w, density=True)\n",
    "plt.show()"
   ]
  },
  {
   "cell_type": "code",
   "execution_count": 22,
   "id": "920e277c",
   "metadata": {},
   "outputs": [],
   "source": [
    "x = [2,3,2.1,2.4,3.14,1.8]\n",
    "# 1. assume A and B are independent, so we generate lists of (A,B) samples\n",
    "asample = np.random.exponential(1/0.2, size=10000)\n",
    "bsample = np.random.exponential(1/0.1, size=10000)"
   ]
  },
  {
   "cell_type": "code",
   "execution_count": 25,
   "id": "50578ac7",
   "metadata": {},
   "outputs": [
    {
     "data": {
      "image/png": "[encoded data removed]",
      "text/plain": [
       "<Figure size 432x288 with 1 Axes>"
      ]
     },
     "metadata": {
      "needs_background": "light"
     },
     "output_type": "display_data"
    }
   ],
   "source": [
    "\n",
    "min,max = np.min(x), np.max(x)\n",
    "w = np.power(1/bsample,len(x)) * np.where(((min >= asample) & (max <= asample + bsample)),1,0)\n",
    "w = w / np.sum(w)\n",
    "\n",
    "plt.hist(bsample, weights=w, density=True, bins=np.linspace(0,6,30))\n",
    "plt.show()"
   ]
  },
  {
   "cell_type": "code",
   "execution_count": 26,
   "id": "8c703a96",
   "metadata": {},
   "outputs": [],
   "source": [
    "# for each Θ, we generate 10 data pieces as a set\n",
    "x = np.random.choice((6,7,8,9,10),1000,replace=True, p = [0.1,0.2,0.2,0.3,0.2])"
   ]
  },
  {
   "cell_type": "code",
   "execution_count": 27,
   "id": "01bea2d0",
   "metadata": {},
   "outputs": [
    {
     "name": "stderr",
     "output_type": "stream",
     "text": [
      "<ipython-input-27-9b3922463391>:6: RuntimeWarning: invalid value encountered in true_divide\n",
      "  w = w / np.sum(w)\n"
     ]
    },
    {
     "data": {
      "image/png": "[encoded data removed]",
      "text/plain": [
       "<Figure size 432x288 with 1 Axes>"
      ]
     },
     "metadata": {
      "needs_background": "light"
     },
     "output_type": "display_data"
    }
   ],
   "source": [
    "# without using logs\n",
    "# 1. sample Θ using prior distribution\n",
    "Θsample = np.random.uniform(0,1,size=10000)\n",
    "# 2. calculate the weights using observed likelihood wi ∝ PrX(X|Θ), where (X|Θ) ~ Bin(10,Θ)\n",
    "w = [np.product(scipy.stats.binom.pmf(x,n = 10, p = Θ)) for Θ in Θsample]\n",
    "w = w / np.sum(w)\n",
    "# 3. reason about (Θ|X)\n",
    "plt.hist(Θsample, weights=w, density=True, bins=30)\n",
    "plt.show()"
   ]
  },
  {
   "cell_type": "code",
   "execution_count": 28,
   "id": "aa8e57bb",
   "metadata": {},
   "outputs": [
    {
     "data": {
      "image/png": "[encoded data removed]",
      "text/plain": [
       "<Figure size 432x288 with 1 Axes>"
      ]
     },
     "metadata": {
      "needs_background": "light"
     },
     "output_type": "display_data"
    }
   ],
   "source": [
    "logw = [np.sum(scipy.stats.binom.logpmf(x,n = 10, p = t)) for t in tsample]\n",
    "maxlogw = np.max(logw)\n",
    "w=np.exp(logw-maxlogw)\n",
    "w=w/np.sum(w)\n",
    "plt.hist(tsample, weights=w, density=True, bins=30)\n",
    "plt.show()"
   ]
  },
  {
   "cell_type": "code",
   "execution_count": 29,
   "id": "c0b60720",
   "metadata": {},
   "outputs": [
    {
     "data": {
      "image/png": "[encoded data removed]",
      "text/plain": [
       "<Figure size 432x288 with 1 Axes>"
      ]
     },
     "metadata": {
      "needs_background": "light"
     },
     "output_type": "display_data"
    }
   ],
   "source": [
    "y=2\n",
    "tsample =np.random.uniform(0,1,size=100000)\n",
    "w=scipy.stats.binom.pmf(y,n=3,p=tsample)\n",
    "w=w/np.sum(w)\n",
    "\n",
    "i =np.argsort(tsample)\n",
    "tsample, w = tsample[i], w[i]\n",
    "F = np.cumsum(w)\n",
    "(lo,hi) = (tsample[F<0.025][-1], tsample[F>0.975][0])\n",
    "\n",
    "fig,ax =plt.subplots()\n",
    "ax.hist(tsample,weights=w, density=True, bins=60)\n",
    "ax.axvline(x=lo, linestyle='--',color='black')\n",
    "ax.axvline(x=hi, linestyle='--', color='black')\n",
    "ax.set_title(r'$\\mathbb{P}(\\Theta\\in'+f'[{lo:.3},{hi:.3}]'+')=95%$')\n",
    "plt.show()"
   ]
  },
  {
   "cell_type": "code",
   "execution_count": null,
   "id": "b97d3083",
   "metadata": {},
   "outputs": [],
   "source": []
  }
 ],
 "metadata": {
  "kernelspec": {
   "display_name": "Python 3",
   "language": "python",
   "name": "python3"
  },
  "language_info": {
   "codemirror_mode": {
    "name": "ipython",
    "version": 3
   },
   "file_extension": ".py",
   "mimetype": "text/x-python",
   "name": "python",
   "nbconvert_exporter": "python",
   "pygments_lexer": "ipython3",
   "version": "3.8.8"
  }
 },
 "nbformat": 4,
 "nbformat_minor": 5
}
